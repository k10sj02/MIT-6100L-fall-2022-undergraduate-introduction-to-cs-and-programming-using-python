{
 "cells": [
  {
   "cell_type": "markdown",
   "metadata": {},
   "source": [
    "##### 6.100L | Fall 2022 | Undergraduate\n",
    "# Introduction to CS and Programming using Python"
   ]
  },
  {
   "cell_type": "markdown",
   "metadata": {},
   "source": [
    "Instructor: Dr. Ana Bell\n",
    "\n",
    "Course Description: This subject is aimed at students with little to no programming experience. It aims to provide students with an understanding of the role computation can play in solving problems. It also aims to help students, regardless of their major, feel justifiably confident in their ability to write simple programs that allow them to accomplish useful goals. The class will use the Python 3 programming language."
   ]
  },
  {
   "cell_type": "markdown",
   "metadata": {},
   "source": [
    "## Lecture 7 - Decomposition, Abstraction, and Functions\n",
    "\n",
    "Lesson Description: An introduction to functions and their decomposition, abstractions, and specifications. Functions allow us to suppress detail from a user and capture computation within a black box. A programmer writes functions with 0 or more inputs and something to return. A function only runs when it is called and the entire function call is replaced with the return value."
   ]
  },
  {
   "cell_type": "code",
   "execution_count": 1,
   "metadata": {},
   "outputs": [],
   "source": [
    "def div_by(n,d: int) -> int:\n",
    "  \"\"\"n and d are ints > 0\n",
    "      Returns True if d divides n evenly and false otherwise\"\"\"\n",
    "  if n%d == 0:\n",
    "    return True\n",
    "  else:\n",
    "    return False\n"
   ]
  },
  {
   "cell_type": "code",
   "execution_count": 2,
   "metadata": {},
   "outputs": [
    {
     "data": {
      "text/plain": [
       "False"
      ]
     },
     "execution_count": 2,
     "metadata": {},
     "output_type": "execute_result"
    }
   ],
   "source": [
    "div_by(2,4)"
   ]
  },
  {
   "cell_type": "code",
   "execution_count": 3,
   "metadata": {},
   "outputs": [],
   "source": [
    "def sum_odd(a, b: int) -> int:\n",
    "  \"\"\"Add all odd integers between (and including) a and b\"\"\"\n",
    "  sum_of_odds = 0\n",
    "  for i in range(a,b+1):\n",
    "    sum_of_odds += i\n",
    "    return sum_of_odds #with incorrect indentation, it only runs once and returns 2 after the first iteration."
   ]
  },
  {
   "cell_type": "code",
   "execution_count": 4,
   "metadata": {},
   "outputs": [
    {
     "name": "stdout",
     "output_type": "stream",
     "text": [
      "2\n"
     ]
    }
   ],
   "source": [
    "print(sum_odd(2,4))"
   ]
  },
  {
   "cell_type": "code",
   "execution_count": 5,
   "metadata": {},
   "outputs": [],
   "source": [
    "def sum_odd(a, b: int) -> int:\n",
    "  \"\"\"Add all odd integers between (and including) a and b\"\"\"\n",
    "  sum_of_odds = 0\n",
    "  for i in range(a,b+1):\n",
    "    if i % 2 == 1:\n",
    "      sum_of_odds += i\n",
    "  return sum_of_odds #By placing return sum_of_odds outside the loop (aligned with for), it ensures that the function completes all iterations before returning the final sum.\n"
   ]
  },
  {
   "cell_type": "code",
   "execution_count": 6,
   "metadata": {},
   "outputs": [
    {
     "name": "stdout",
     "output_type": "stream",
     "text": [
      "3\n"
     ]
    }
   ],
   "source": [
    "print(sum_odd(2,4))"
   ]
  },
  {
   "cell_type": "markdown",
   "metadata": {},
   "source": [
    "## Try it at Home Exercises"
   ]
  },
  {
   "cell_type": "code",
   "execution_count": 7,
   "metadata": {},
   "outputs": [],
   "source": [
    "############## YOU TRY IT ###################\n",
    "# Write code that satisfies the following specification:\n",
    "# Hint, use paper and pen for a strategy before coding!\n",
    "def is_palindrome(s: str) -> str:\n",
    "    \"\"\" s is a string\n",
    "    Returns True if s is a palindrome and False otherwise\n",
    "    \"\"\"\n",
    "    # your code here\n",
    "    word = s.lower() #Parameter name is vague or generic, so renaming it inside the function can improve clarity.\n",
    "    reversed_string = word[::-1]\n",
    "    if word == reversed_string: \n",
    "        return True\n",
    "    else: \n",
    "        return False\n",
    "\n",
    "################################################\n"
   ]
  },
  {
   "cell_type": "code",
   "execution_count": 8,
   "metadata": {},
   "outputs": [
    {
     "data": {
      "text/plain": [
       "True"
      ]
     },
     "execution_count": 8,
     "metadata": {},
     "output_type": "execute_result"
    }
   ],
   "source": [
    "is_palindrome(\"atta\")"
   ]
  },
  {
   "cell_type": "code",
   "execution_count": 13,
   "metadata": {},
   "outputs": [],
   "source": [
    "################################################\n",
    "################ YOU TRY IT AT HOME #####################\n",
    "################################################\n",
    "# 1. Write code that satisfies the following specs:\n",
    "def keep_consonants(word: str) -> str:\n",
    "    \"\"\" word is a string of lowercase letters\n",
    "        Returns a string containing only the consonants \n",
    "        of word in the order they appear\n",
    "    \"\"\"\n",
    "    # your code here\n",
    "    word = word.lower() # Converts word to lowercase and reassigns the result to word\n",
    "    vowels = ['a', 'e', 'i', 'o', 'u']\n",
    "    for vowel in vowels:\n",
    "        word = word.replace(vowel, \"\")\n",
    "    print(word)\n",
    "# For example\n",
    "# print(keep_consonants(\"abcd\"))  # prints bcd\n",
    "# print(keep_consonants(\"aaa\"))  # prints an empty string\n",
    "# print(keep_consonants(\"babas\"))  # prints bbs"
   ]
  },
  {
   "cell_type": "code",
   "execution_count": 14,
   "metadata": {},
   "outputs": [
    {
     "name": "stdout",
     "output_type": "stream",
     "text": [
      "bcd\n"
     ]
    }
   ],
   "source": [
    "keep_consonants(\"abcd\")"
   ]
  },
  {
   "cell_type": "markdown",
   "metadata": {},
   "source": [
    "## Removing Vowels from a String\n",
    "\n",
    "This code iterates through a list of vowels and removes them one by one from a given word.\n",
    "\n",
    "### Why Use a List and a For Loop?\n",
    "- The **list (`vowels`)** stores all vowels in one place, making it easy to modify if needed.\n",
    "- The **for loop** automates the process of replacing vowels, avoiding repetitive `.replace()` calls.\n",
    "- This approach makes the code **cleaner, shorter, and easier to maintain**.\n",
    "\n",
    "### Code:\n",
    "```python\n",
    "word = word.lower()\n",
    "vowels = ['a', 'e', 'i', 'o', 'u']\n",
    "\n",
    "for vowel in vowels:\n",
    "    word = word.replace(vowel, \"\")\n",
    "    print(word)\n",
    "  "
   ]
  },
  {
   "cell_type": "code",
   "execution_count": null,
   "metadata": {},
   "outputs": [],
   "source": []
  },
  {
   "cell_type": "code",
   "execution_count": 15,
   "metadata": {},
   "outputs": [
    {
     "name": "stdout",
     "output_type": "stream",
     "text": [
      "dm\n"
     ]
    }
   ],
   "source": [
    "keep_consonants(\"adam\")"
   ]
  },
  {
   "cell_type": "code",
   "execution_count": null,
   "metadata": {},
   "outputs": [],
   "source": [
    "# 2. Write code that satisfies the following specs:\n",
    "def first_to_last_diff(s, c: str) -> int:\n",
    "    \"\"\" s is a string, c is single character string\n",
    "        Returns the difference between the index where c first\n",
    "        occurs and the index where c last occurs. If c does not \n",
    "        occur in s, returns -1. \n",
    "    \"\"\"\n",
    "    # your code here\n",
    "    if s.find(c) != -1:\n",
    "        first_occurrence = s.find(c)\n",
    "        last_occurrence = s.rfind(c)\n",
    "        result = last_occurrence - first_occurrence\n",
    "        print(result)\n",
    "    else:\n",
    "        print(s.find(c))\n",
    "# For example\n",
    "# print(first_to_last_diff('aaaa', 'a'))  # prints 3\n",
    "# print(first_to_last_diff('abcabcabc', 'b'))  # prints 6\n",
    "# print(first_to_last_diff('abcabcabc', 'f'))  # prints -1"
   ]
  },
  {
   "cell_type": "code",
   "execution_count": 36,
   "metadata": {},
   "outputs": [
    {
     "name": "stdout",
     "output_type": "stream",
     "text": [
      "-1\n"
     ]
    }
   ],
   "source": [
    "first_to_last_diff('abcabcabc', 'f')"
   ]
  },
  {
   "cell_type": "code",
   "execution_count": null,
   "metadata": {},
   "outputs": [],
   "source": [
    "# 2. Write code that satisfies the following specs:\n",
    "def first_to_last_diff(s, c: str) -> int:\n",
    "    \"\"\" s is a string, c is single character string\n",
    "        Returns the difference between the index where c first\n",
    "        occurs and the index where c last occurs. If c does not \n",
    "        occur in s, returns -1. \n",
    "    \"\"\"\n",
    "    # your code here\n",
    "    first_occurrence = s.find(c)\n",
    "    if first_occurrence == -1:\n",
    "      return -1\n",
    "    last_occurrence = s.rfind(c)\n",
    "    result = last_occurrence - first_occurrence\n",
    "    print(result)\n",
    "\n",
    "# For example\n",
    "# print(first_to_last_diff('aaaa', 'a'))  # prints 3\n",
    "# print(first_to_last_diff('abcabcabc', 'b'))  # prints 6\n",
    "# print(first_to_last_diff('abcabcabc', 'f'))  # prints -1"
   ]
  },
  {
   "cell_type": "markdown",
   "metadata": {},
   "source": [
    "ChatGPT gave me this feedback on the code above.\n",
    "\n",
    "Your implementation is mostly correct but has a few issues:\n",
    "\n",
    "1. The function does not return the result as required; it only prints it. You should use return instead of print.\n",
    "\n",
    "2. The condition if s.find(c) != -1: is redundant because you can directly check if s.find(c) == -1 and return -1 immediately.\n",
    "\n",
    "Improvements:\n",
    "\n",
    "✔ Uses return instead of print </br>\n",
    "✔ Removes redundant checks </br>\n",
    "✔ Keeps the function clean and efficient"
   ]
  },
  {
   "cell_type": "code",
   "execution_count": 37,
   "metadata": {},
   "outputs": [
    {
     "name": "stdout",
     "output_type": "stream",
     "text": [
      "3\n",
      "6\n",
      "-1\n"
     ]
    }
   ],
   "source": [
    "def first_to_last_diff(s: str, c: str) -> int:\n",
    "    \"\"\" \n",
    "    s is a string, c is a single-character string.\n",
    "    Returns the difference between the index where c first\n",
    "    occurs and the index where c last occurs. If c does not \n",
    "    occur in s, returns -1. \n",
    "    \"\"\"\n",
    "    first_occurrence = s.find(c)\n",
    "    if first_occurrence == -1:\n",
    "        return -1  # Character not found\n",
    "    \n",
    "    last_occurrence = s.rfind(c)\n",
    "    return last_occurrence - first_occurrence\n",
    "\n",
    "# Test cases\n",
    "print(first_to_last_diff('aaaa', 'a'))  # Expected: 3\n",
    "print(first_to_last_diff('abcabcabc', 'b'))  # Expected: 6\n",
    "print(first_to_last_diff('abcabcabc', 'f'))  # Expected: -1"
   ]
  },
  {
   "cell_type": "markdown",
   "metadata": {},
   "source": [
    "## Lecture 3: Iteration\n",
    "\n",
    "An introduction to control flow and iteration through loops. Looping mechanisms include while and for loops. Lots of syntax today, be sure to get lots of practice! While loops loop as long as a condition is true and you need to make sure you don’t enter an infinite loop. For loops can loop over ranges of numbers and elements of a string.\n"
   ]
  },
  {
   "cell_type": "code",
   "execution_count": null,
   "metadata": {},
   "outputs": [
    {
     "name": "stdout",
     "output_type": "stream",
     "text": [
      "Inside function: [1, 2, 3, 4]\n",
      "Outside function: [1, 2, 3, 4]\n"
     ]
    }
   ],
   "source": [
    "numbers = [1, 2, 3]  # Global list\n",
    "\n",
    "def modify_list(lst):\n",
    "    lst.append(4)  # Modifies the same list object\n",
    "    print(\"Inside function:\", lst)\n",
    "\n",
    "modify_list(numbers)\n",
    "print(\"Outside function:\", numbers)"
   ]
  },
  {
   "cell_type": "code",
   "execution_count": null,
   "metadata": {},
   "outputs": [
    {
     "name": "stdout",
     "output_type": "stream",
     "text": [
      "What's your next move?\n",
      "What's your next move?\n",
      ":(\n",
      ":(\n",
      ":(\n",
      "You got out!\n"
     ]
    }
   ],
   "source": [
    "\"\"\"Expand this code to show a sad face when the user entered \n",
    "the while loop more than two times.\n",
    "Hint: use a variable as a counter.\"\"\"\n",
    "entered = 0 # # Initialize counter - needs to be assigned outside of while loop\n",
    "where = input(\"Go left or right\")\n",
    "while where == \"right\":\n",
    "  entered += 1 # Increase the counter\n",
    "  if entered > 2:\n",
    "    print(\":(\")\n",
    "  else:\n",
    "    print(\"What's your next move?\")\n",
    "  where = input(\"Go left or right?\")\n",
    "print(\"You got out!\")"
   ]
  },
  {
   "cell_type": "markdown",
   "metadata": {},
   "source": [
    "## Iterating Through A Number Sequence"
   ]
  },
  {
   "cell_type": "code",
   "execution_count": null,
   "metadata": {},
   "outputs": [],
   "source": [
    "n = 0  #set loop variable outside while loop\n",
    "while n < 5: # test loop variable in condition\n",
    "  print(n) \n",
    "  n += 1 #increment loop variable inside while loop"
   ]
  },
  {
   "cell_type": "code",
   "execution_count": null,
   "metadata": {},
   "outputs": [],
   "source": [
    "\"\"\" Find 4!\n",
    "i is our loop variable\n",
    "factorial keeps track of the product\"\"\""
   ]
  },
  {
   "cell_type": "markdown",
   "metadata": {},
   "source": [
    "## For Loops"
   ]
  },
  {
   "cell_type": "code",
   "execution_count": null,
   "metadata": {},
   "outputs": [
    {
     "name": "stdout",
     "output_type": "stream",
     "text": [
      "0\n",
      "1\n",
      "2\n",
      "3\n",
      "4\n"
     ]
    }
   ],
   "source": [
    "for n in range(5):\n",
    "  print(n)"
   ]
  },
  {
   "cell_type": "code",
   "execution_count": null,
   "metadata": {},
   "outputs": [],
   "source": [
    "\"\"\"Be able to explain this like the professor\"\"\"\n",
    "\n",
    "mysum = 0\n",
    "for i in range(10):\n",
    "  mysum += i \n",
    "print(mysum)"
   ]
  },
  {
   "cell_type": "code",
   "execution_count": 9,
   "metadata": {},
   "outputs": [
    {
     "name": "stdout",
     "output_type": "stream",
     "text": [
      "i= 3\n",
      "i= 4\n",
      "i= 5\n",
      "12\n"
     ]
    }
   ],
   "source": [
    "mysum = 0\n",
    "start = 3\n",
    "end = 5\n",
    "\n",
    "for i in range(start, end+1):\n",
    "  print('i=', i)\n",
    "  mysum += i\n",
    "print(mysum)"
   ]
  },
  {
   "cell_type": "code",
   "execution_count": 5,
   "metadata": {},
   "outputs": [
    {
     "data": {
      "text/plain": [
       "7"
      ]
     },
     "execution_count": 5,
     "metadata": {},
     "output_type": "execute_result"
    }
   ],
   "source": [
    "sum(range(3,5))"
   ]
  },
  {
   "cell_type": "code",
   "execution_count": 7,
   "metadata": {},
   "outputs": [
    {
     "name": "stdout",
     "output_type": "stream",
     "text": [
      "i= 3\n",
      "i= 4\n",
      "i= 5\n",
      "3\n"
     ]
    }
   ],
   "source": [
    "mysum = 0\n",
    "start = 3\n",
    "end = 5\n",
    "\n",
    "for i in range(start, end+1):\n",
    "  print('i=', i)\n",
    "  mysum += 1\n",
    "print(mysum)"
   ]
  },
  {
   "cell_type": "markdown",
   "metadata": {},
   "source": [
    "## Lecture 2 - Strings, Input/Output, and Branching\n",
    "\n",
    "This lecture discusses the core elements of programs: strings, input/output, f-strings, operators, branching, and indentation. Big idea: Debug early, debug often. Write a little and test a little. Don’t write a complete program at once. It introduces too many errors. Use the Python Tutor to step through code when you see something unexpected!"
   ]
  },
  {
   "cell_type": "code",
   "execution_count": 39,
   "metadata": {},
   "outputs": [],
   "source": [
    "s = \"ABC d3f ghi\""
   ]
  },
  {
   "cell_type": "code",
   "execution_count": null,
   "metadata": {},
   "outputs": [
    {
     "name": "stdout",
     "output_type": "stream",
     "text": [
      " d3f gh\n",
      "d CB\n",
      "\n"
     ]
    }
   ],
   "source": [
    "print(s[3:len(s)-1])\n",
    "print(s[4:0:-1])\n",
    "print(s[6:3]) #returns an empty string"
   ]
  },
  {
   "cell_type": "code",
   "execution_count": 54,
   "metadata": {},
   "outputs": [
    {
     "name": "stdout",
     "output_type": "stream",
     "text": [
      "I can sing better than you\n",
      "sing sing sing sing sing \n"
     ]
    }
   ],
   "source": [
    "# Write a program that: \n",
    "# * Asks the user for a verb.\n",
    "# * Prints \"I can _ better than you\" where you replace _ with the verb.\n",
    "# * Then prints the verb 5 times in a row separated by spaces.\n",
    "# For example, if the user enters run, you print:\n",
    "#     I can run better than you!\n",
    "#     run run run run run\n",
    "\n",
    "# your code here\n",
    "\n",
    "question = input(\"Enter a verb: \")\n",
    "print(\"I can \" + question + \" better than you\")\n",
    "print((question + \" \") * 5)\n",
    "#How can we print last \"run\" without space?"
   ]
  },
  {
   "cell_type": "code",
   "execution_count": 59,
   "metadata": {},
   "outputs": [
    {
     "name": "stdout",
     "output_type": "stream",
     "text": [
      "False\n"
     ]
    }
   ],
   "source": [
    "############## YOU TRY IT ###############\n",
    "# Write a program that:\n",
    "# * Saves a secret number. \n",
    "# * Asks the user for a number guess.\n",
    "# * Prints a bool depending on whether the guess matches the secret.\n",
    "\n",
    "# your code here\n",
    "\n",
    "secret_num = 5\n",
    "user_num = int(input())\n",
    "\n",
    "print(secret_num == user_num)"
   ]
  },
  {
   "cell_type": "markdown",
   "metadata": {},
   "source": [
    "## Lecture 3 - Loops over Strings, Guess-and-Check, Binary\n",
    "\n",
    "This lecture discusses the core elements of programs: strings, input/output, f-strings, operators, branching, and indentation. Big idea: Debug early, debug often. Write a little and test a little. Don’t write a complete program at once. It introduces too many errors. Use the Python Tutor to step through code when you see something unexpected!"
   ]
  },
  {
   "cell_type": "code",
   "execution_count": 69,
   "metadata": {},
   "outputs": [
    {
     "name": "stdout",
     "output_type": "stream",
     "text": [
      "3\n"
     ]
    }
   ],
   "source": [
    "even_num = 0\n",
    "\n",
    "for i in range(5):\n",
    "  if i%2 == 0:\n",
    "    even_num +=1\n",
    "print(even_num)"
   ]
  },
  {
   "cell_type": "code",
   "execution_count": 70,
   "metadata": {},
   "outputs": [
    {
     "name": "stdout",
     "output_type": "stream",
     "text": [
      "5\n"
     ]
    }
   ],
   "source": [
    "even_num = 0\n",
    "\n",
    "for i in range(10):\n",
    "  if i%2 == 0:\n",
    "    even_num +=1\n",
    "print(even_num)"
   ]
  },
  {
   "cell_type": "code",
   "execution_count": 71,
   "metadata": {},
   "outputs": [
    {
     "name": "stdout",
     "output_type": "stream",
     "text": [
      "2\n"
     ]
    }
   ],
   "source": [
    "even_num = 0\n",
    "\n",
    "for i in range(2, 9, 3):\n",
    "  if i%2 == 0:\n",
    "    even_num +=1\n",
    "print(even_num)"
   ]
  },
  {
   "cell_type": "code",
   "execution_count": 72,
   "metadata": {},
   "outputs": [
    {
     "name": "stdout",
     "output_type": "stream",
     "text": [
      "5\n"
     ]
    }
   ],
   "source": [
    "even_num = 0 \n",
    "\n",
    "for i in range(-4, 6, 2):\n",
    "  if i%2 == 0:\n",
    "    even_num +=1\n",
    "print(even_num)"
   ]
  },
  {
   "cell_type": "code",
   "execution_count": 73,
   "metadata": {},
   "outputs": [
    {
     "name": "stdout",
     "output_type": "stream",
     "text": [
      "0\n"
     ]
    }
   ],
   "source": [
    "even_num = 0\n",
    "\n",
    "for i in range(5, 6):\n",
    "  if i%2 == 0:\n",
    "    even_num +=1\n",
    "print(even_num)"
   ]
  },
  {
   "cell_type": "code",
   "execution_count": 75,
   "metadata": {},
   "outputs": [
    {
     "data": {
      "text/plain": [
       "5"
      ]
     },
     "execution_count": 75,
     "metadata": {},
     "output_type": "execute_result"
    }
   ],
   "source": [
    "even_num = []\n",
    "\n",
    "for i in range(10):\n",
    "  if i%2 == 0:\n",
    "    even_num.append(i)\n",
    "len(even_num)"
   ]
  },
  {
   "cell_type": "code",
   "execution_count": null,
   "metadata": {},
   "outputs": [
    {
     "name": "stdout",
     "output_type": "stream",
     "text": [
      "3\n"
     ]
    }
   ],
   "source": [
    "s = \"abca\"\n",
    "seen = '' #start with an empty string\n",
    "\n",
    "for char in s:\n",
    "    if char not in seen:\n",
    "      seen = seen + char\n",
    "print(len(seen))"
   ]
  },
  {
   "cell_type": "code",
   "execution_count": null,
   "metadata": {},
   "outputs": [
    {
     "name": "stdout",
     "output_type": "stream",
     "text": [
      "10\n"
     ]
    }
   ],
   "source": [
    "secret_value = 10 # Define secret_value for demonstration\n",
    "\n",
    "for num in range(1, 11):\n",
    "  if num == secret_value:\n",
    "    print(secret_value) \n",
    "    break # Stop the loop once the secret_value is found\n",
    "else:\n",
    "  print(\"Secret value not found\")\n",
    "\n",
    "# Some developers might find the else with the loop a bit tricky to understand, \n",
    "# as it’s less commonly used in everyday Python code.\n",
    "\n",
    "# The first approach is more concise, utilizing break to stop \n",
    "# the loop early and else to handle the “not found” case."
   ]
  },
  {
   "cell_type": "code",
   "execution_count": 24,
   "metadata": {},
   "outputs": [
    {
     "name": "stdout",
     "output_type": "stream",
     "text": [
      "found\n"
     ]
    }
   ],
   "source": [
    "found = False\n",
    "\n",
    "secret_value = 10 # Define secret_value for demonstration\n",
    "\n",
    "for num in range(1, 11):\n",
    "  if num == secret_value: \n",
    "    found = True\n",
    "if not found:\n",
    "  print(\"Secret value not found\")\n",
    "else: \n",
    "  print(\"found\")\n",
    "\n",
    "# The second approach is more explicit and uses a flag to track if the value was found, \n",
    "# with an extra check after the loop.\n",
    "\n"
   ]
  },
  {
   "cell_type": "code",
   "execution_count": null,
   "metadata": {},
   "outputs": [],
   "source": []
  }
 ],
 "metadata": {
  "kernelspec": {
   "display_name": "MIT6100Fall2022",
   "language": "python",
   "name": "python3"
  },
  "language_info": {
   "codemirror_mode": {
    "name": "ipython",
    "version": 3
   },
   "file_extension": ".py",
   "mimetype": "text/x-python",
   "name": "python",
   "nbconvert_exporter": "python",
   "pygments_lexer": "ipython3",
   "version": "3.12.3"
  }
 },
 "nbformat": 4,
 "nbformat_minor": 2
}
